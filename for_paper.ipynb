{
  "nbformat": 4,
  "nbformat_minor": 0,
  "metadata": {
    "colab": {
      "provenance": []
    },
    "kernelspec": {
      "name": "python3",
      "display_name": "Python 3"
    },
    "language_info": {
      "name": "python"
    }
  },
  "cells": [
    {
      "cell_type": "markdown",
      "metadata": {
        "id": "-fWXluY3a_yg"
      },
      "source": [
        "# Cerberus Network"
      ]
    },
    {
      "cell_type": "markdown",
      "metadata": {
        "id": "5HHS8Ed1bKVY"
      },
      "source": [
        "## 1.Set Environment"
      ]
    },
    {
      "cell_type": "code",
      "source": [
        "from google.colab import drive\n",
        "\n",
        "drive.mount(\"/content/drive\")"
      ],
      "metadata": {
        "colab": {
          "base_uri": "https://localhost:8080/"
        },
        "id": "gPGzrRugHuvG",
        "outputId": "1a698699-008d-4b1e-acb1-40859a227983"
      },
      "execution_count": 1,
      "outputs": [
        {
          "output_type": "stream",
          "name": "stdout",
          "text": [
            "Mounted at /content/drive\n"
          ]
        }
      ]
    },
    {
      "cell_type": "code",
      "source": [
        "!pip install sklearn\n",
        "!pip install xlrd\n",
        "!pip install seaborn\n",
        "!pip install pandas\n",
        "!pip install torch\n",
        "!pip install matplotlib\n",
        "%matplotlib inline\n",
        "\n",
        "from pathlib import Path\n",
        "import shutil\n",
        "import glob\n",
        "\n",
        "import numpy as np\n",
        "import pandas as pd\n",
        "import random\n",
        "import copy\n",
        "import collections\n",
        "import re\n",
        "import scipy.signal as sg\n",
        "from dataclasses import dataclass\n",
        "import pickle\n",
        "\n",
        "import torch\n",
        "from torch.utils.data import Dataset, DataLoader\n",
        "from torch.utils.tensorboard import SummaryWriter\n",
        "import torch.nn as nn\n",
        "import torch.nn.functional as F\n",
        "from torch.autograd import Variable\n",
        "\n",
        "import sklearn\n",
        "from sklearn.model_selection import train_test_split\n",
        "from sklearn.model_selection import StratifiedKFold\n",
        "from sklearn.metrics import confusion_matrix\n",
        "from sklearn.metrics import r2_score\n",
        "from sklearn.metrics import roc_auc_score\n",
        "\n",
        "import matplotlib\n",
        "import matplotlib.pyplot as plt\n",
        "import seaborn\n",
        "import seaborn as sns\n",
        "from tabulate import tabulate\n",
        "from IPython.display import Markdown as md\n",
        "import time\n",
        "from tqdm import tqdm"
      ],
      "metadata": {
        "id": "wmohrXok2Cqv",
        "colab": {
          "base_uri": "https://localhost:8080/",
          "height": 35
        },
        "outputId": "835265b7-27b7-42dc-d418-95bfdc3305b1"
      },
      "execution_count": 3,
      "outputs": [
        {
          "output_type": "display_data",
          "data": {
            "text/plain": [
              "<Figure size 7200x4800 with 0 Axes>"
            ]
          },
          "metadata": {}
        }
      ]
    },
    {
      "cell_type": "markdown",
      "metadata": {
        "id": "BlZ9mf_HWzwx"
      },
      "source": [
        "## 2.Load Data and Set Targets"
      ]
    },
    {
      "cell_type": "code",
      "source": [
        "rootdir = \"/content/drive/My Drive/ML_research/virus_2024/\"\n",
        "DEV = torch.device(\"cuda\" if torch.cuda.is_available() else 'cpu')"
      ],
      "metadata": {
        "id": "IF5DceDrN81a"
      },
      "execution_count": 18,
      "outputs": []
    },
    {
      "cell_type": "markdown",
      "source": [
        "### Load Data"
      ],
      "metadata": {
        "id": "cCFR75j7L8Or"
      }
    },
    {
      "cell_type": "code",
      "execution_count": 5,
      "metadata": {
        "id": "G8BO-xFoWx_V",
        "colab": {
          "base_uri": "https://localhost:8080/"
        },
        "outputId": "481a918d-84c8-4ee5-a281-ad2523e38c05"
      },
      "outputs": [
        {
          "output_type": "stream",
          "name": "stdout",
          "text": [
            "Data Shape : (7, 40, 9, 51)\n",
            "['1:0:0' '0:1:0' '0:0:1' '1:1:0' '1:0:1' '0:1:1' '1:1:1']\n",
            "['100' '010' '001' '110' '101' '011' '111']\n",
            "Plain Data Shape : (7, 9, 51)\n"
          ]
        }
      ],
      "source": [
        "data = np.load(rootdir + \"data/_real_data/past/data_7_mix_rand.npy\")\n",
        "target_labels = np.load(rootdir + \"data/_real_data/past/7targets.npy\")\n",
        "\n",
        "print('Data Shape :', data.shape)\n",
        "print('Target Labels : ', target_labels)\n",
        "\n",
        "n_target = data.shape[0]\n",
        "n_tot = data.shape[1]\n",
        "n_chs = data.shape[2]\n",
        "data_len = data.shape[3]\n",
        "\n",
        "print('Number of Targets :', n_target)\n",
        "print('Number of Datasets :', n_tot)\n",
        "print('Number of Channels :', n_chs)\n",
        "print('Data Length : ', data_len)"
      ]
    },
    {
      "cell_type": "markdown",
      "source": [
        "### Set Data Properties"
      ],
      "metadata": {
        "id": "tw4q58T56tOS"
      }
    },
    {
      "cell_type": "markdown",
      "source": [
        "### Set Targets"
      ],
      "metadata": {
        "id": "-qkWcDIPL_he"
      }
    },
    {
      "cell_type": "code",
      "source": [
        "target_p2 = [1, 0, 0, 1, 1, 0, 1]\n",
        "target_p3 = [0, 1, 0, 1, 0, 1, 1]\n",
        "target_rsv = [0, 0, 1, 0, 1, 1, 1]"
      ],
      "metadata": {
        "id": "HWMoOn7i4Peu"
      },
      "execution_count": 9,
      "outputs": []
    },
    {
      "cell_type": "markdown",
      "metadata": {
        "id": "Z66iJe-kbZ2M"
      },
      "source": [
        "## 3.Split Data to Train and Test Dataset"
      ]
    },
    {
      "cell_type": "markdown",
      "source": [
        "### Data Split Function\n",
        "Split data into train, validation, test"
      ],
      "metadata": {
        "id": "o4IX-QP4NGxy"
      }
    },
    {
      "cell_type": "code",
      "source": [
        "def split_data(val_r, test_r, data):\n",
        "\n",
        "    virus_data = {}\n",
        "    virus_data.clear\n",
        "\n",
        "    for i in range(len(target_labels)):\n",
        "        virus_data[target_labels[i]] = np.transpose(data[i])\n",
        "\n",
        "    virus_data_train = {}\n",
        "    virus_data_val = {}\n",
        "    virus_data_test = {}\n",
        "    virus_data_train.clear\n",
        "    virus_data_val.clear\n",
        "    virus_data_test.clear\n",
        "\n",
        "    for i in range(len(virus_data.keys())):\n",
        "\n",
        "        trans_data = np.transpose(virus_data[target_labels[i]])\n",
        "\n",
        "        train_tot_ds, test_ds = train_test_split(trans_data, test_size=test_r, random_state=150)\n",
        "        train_ds, val_ds = train_test_split(train_tot_ds, test_size=val_r, random_state=150)\n",
        "\n",
        "        n_train = train_ds.shape[0]\n",
        "        n_val = val_ds.shape[0]\n",
        "        n_test = test_ds.shape[0]\n",
        "\n",
        "        virus_data_train[target_labels[i]] = train_ds\n",
        "        virus_data_val[target_labels[i]] = val_ds\n",
        "        virus_data_test[target_labels[i]] = test_ds\n",
        "\n",
        "    return n_train, n_val, n_test, virus_data, virus_data_train, virus_data_val, virus_data_test"
      ],
      "metadata": {
        "id": "zYPdA3-oM-Pb"
      },
      "execution_count": 10,
      "outputs": []
    },
    {
      "cell_type": "markdown",
      "source": [
        "### Data Split"
      ],
      "metadata": {
        "id": "cyhJhvRuNKA8"
      }
    },
    {
      "cell_type": "code",
      "source": [
        "val_r = 0.1\n",
        "test_r = 0.33\n",
        "\n",
        "n_train, n_val, n_test, virus_data, virus_data_train, virus_data_val, virus_data_test = split_data(val_r, test_r, data)\n",
        "\n",
        "print('Total Data Shape :', virus_data[target_labels[0]].shape)\n",
        "print('Train Data Shape :', virus_data_train[target_labels[0]].shape)\n",
        "print('Validation Data Shape :', virus_data_val[target_labels[0]].shape)\n",
        "print('Test Data Shape :',virus_data_test[target_labels[0]].shape)\n",
        "print('Number of Train Set :', n_train)\n",
        "print('Number of Validation Set :', n_val)\n",
        "print('Number of Test Set :', n_test)"
      ],
      "metadata": {
        "id": "6Y4UMNvWNEyO",
        "colab": {
          "base_uri": "https://localhost:8080/"
        },
        "outputId": "e2bdf29e-118a-46e2-f612-a518bf826799"
      },
      "execution_count": 11,
      "outputs": [
        {
          "output_type": "stream",
          "name": "stdout",
          "text": [
            "Total Data Shape : (51, 9, 40)\n",
            "Train Data Shape : (23, 9, 51)\n",
            "Validation Data Shape : (3, 9, 51)\n",
            "Test Data Shape : (14, 9, 51)\n",
            "Number of Train Set : 23\n",
            "Number of Validation Set : 3\n",
            "Number of Test Set : 14\n"
          ]
        }
      ]
    },
    {
      "cell_type": "markdown",
      "source": [
        "## 4.Dataset"
      ],
      "metadata": {
        "id": "B7wU3sIo26rZ"
      }
    },
    {
      "cell_type": "code",
      "source": [
        "class virus_Dataset(Dataset):\n",
        "    def __init__(self, dataset_):\n",
        "        super(virus_Dataset, self).__init__()\n",
        "        self.dataset_ = dataset_\n",
        "        self.virus_keys = target_labels\n",
        "        self.n_target = n_target\n",
        "\n",
        "    def __len__(self):\n",
        "        return len(self.virus_keys) * self.dataset_[self.virus_keys[0]].shape[0]\n",
        "\n",
        "    def __getitem__(self, ix):\n",
        "        n_data_ = self.dataset_[self.virus_keys[0]].shape[0]\n",
        "        key_ix = ix // n_data_\n",
        "        sample_ix = ix % n_data_\n",
        "\n",
        "        virus_k = self.virus_keys[key_ix]\n",
        "        virus_response = self.dataset_[virus_k][sample_ix,:,:]\n",
        "        virus_target_p2 = target_p2[key_ix]\n",
        "        virus_target_p3 = target_p3[key_ix]\n",
        "        virus_target_rsv = target_rsv[key_ix]\n",
        "\n",
        "        return virus_k, torch.FloatTensor(virus_response), torch.FloatTensor([virus_target_p2]), torch.FloatTensor([virus_target_p3]), torch.FloatTensor([virus_target_rsv])"
      ],
      "metadata": {
        "id": "-yiHLzTG1mTM"
      },
      "execution_count": 12,
      "outputs": []
    },
    {
      "cell_type": "markdown",
      "source": [
        "## 5.Build Model"
      ],
      "metadata": {
        "id": "QfO2zncR3_YT"
      }
    },
    {
      "cell_type": "markdown",
      "source": [
        "### Hyperparameters"
      ],
      "metadata": {
        "id": "a2sdc83WibAz"
      }
    },
    {
      "cell_type": "code",
      "source": [
        "# default hyperparameter\n",
        "@dataclass\n",
        "class HP:\n",
        "\n",
        "    num_epochs: int = 500\n",
        "    n_target: int = 1\n",
        "    n_channel: int = 9\n",
        "    kernel_size: int = 7\n",
        "    stride: int = 1\n",
        "    padding: int = 3\n",
        "\n",
        "    bsz_train: int = 1\n",
        "    bsz_test: int = 1\n",
        "    lr: float = 1e-5\n",
        "    dropout: float = 0\n",
        "\n",
        "    decay_rate: float = 1e-5\n",
        "    weight_decay: float = 1e-5\n",
        "    patience: int = 5\n",
        "    seed: int = 1111"
      ],
      "metadata": {
        "id": "cSBKgVeuiSJ-"
      },
      "execution_count": 13,
      "outputs": []
    },
    {
      "cell_type": "markdown",
      "source": [
        "### Multi-head Model"
      ],
      "metadata": {
        "id": "4KjELV5LidJA"
      }
    },
    {
      "cell_type": "code",
      "source": [
        "# model\n",
        "class virus_model(torch.nn.Module):\n",
        "    def __init__(self):\n",
        "        super().__init__()\n",
        "        self.norm = nn.LayerNorm((HP.n_channel, data_len))\n",
        "        self.seq_cnn = nn.Sequential(\n",
        "            nn.Conv1d(HP.n_channel, 16, kernel_size=HP.kernel_size, stride=HP.stride, padding=HP.padding),\n",
        "            nn.ReLU(),\n",
        "            nn.Conv1d(16, 32, kernel_size=HP.kernel_size, stride=HP.stride, padding=HP.padding),\n",
        "            nn.ReLU(),\n",
        "            nn.Conv1d(32, 1, kernel_size=HP.kernel_size, stride=HP.stride, padding=HP.padding),\n",
        "            nn.ReLU()\n",
        "        )\n",
        "\n",
        "        self.norm2 = nn.LayerNorm((1, data_len))\n",
        "\n",
        "        self.seq_lin = nn.Sequential(\n",
        "            nn.Linear(1*data_len, 32),\n",
        "            nn.ReLU(),\n",
        "            nn.Linear(32, 16),\n",
        "            nn.ReLU(),\n",
        "            nn.Linear(16, 10),\n",
        "            nn.ReLU()\n",
        "        )\n",
        "\n",
        "        self.head_p2 = nn.Linear(10, 1)\n",
        "        self.head_p3 = nn.Linear(10, 1)\n",
        "        self.head_rsv = nn.Linear(10, 1)\n",
        "\n",
        "    def forward(self, x):\n",
        "        bsz = x.size(0)\n",
        "        x = self.norm(x)\n",
        "        x = self.seq_cnn(x)\n",
        "        x = self.norm2(x)\n",
        "        x = x.reshape(bsz, -1)\n",
        "        x = self.seq_lin(x)\n",
        "        logit_p2 = self.head_p2(x)\n",
        "        logit_p3 = self.head_p3(x)\n",
        "        logit_rsv = self.head_rsv(x)\n",
        "\n",
        "        return logit_p2, logit_p3, logit_rsv"
      ],
      "metadata": {
        "id": "dcC_QxyT5s74"
      },
      "execution_count": 14,
      "outputs": []
    },
    {
      "cell_type": "markdown",
      "source": [
        "### Train Function"
      ],
      "metadata": {
        "id": "SPFAQjf67PMQ"
      }
    },
    {
      "cell_type": "code",
      "source": [
        "def run_epoch(hp, model, data_loader, epoch, loss_func, dev, opt=None):\n",
        "    if opt:\n",
        "        model.train()\n",
        "    else:\n",
        "        model.eval()\n",
        "\n",
        "    for batch in data_loader:\n",
        "        virus_response, virus_target_p2, virus_target_p3, virus_target_rsv = [b.to(dev) for b in batch[1:]]\n",
        "        with torch.enable_grad() if opt else torch.no_grad():\n",
        "\n",
        "            logit_p2, logit_p3, logit_rsv = model(virus_response)\n",
        "\n",
        "            virus_loss_p2 = loss_func(logit_p2, virus_target_p2.type_as(logit_p2))\n",
        "            virus_loss_p3 = loss_func(logit_p3, virus_target_p3.type_as(logit_p3))\n",
        "            virus_loss_rsv = loss_func(logit_rsv, virus_target_rsv.type_as(logit_rsv))\n",
        "\n",
        "            loss_ = torch.stack([virus_loss_p2, virus_loss_p3, virus_loss_rsv], dim=0)\n",
        "            virus_loss = loss_.mean()\n",
        "\n",
        "        if opt:\n",
        "            opt.zero_grad()\n",
        "            virus_loss.backward()\n",
        "            opt.step()\n",
        "\n",
        "    return virus_loss\n",
        "\n",
        "def virus_model_train(HP, loss_func):\n",
        "\n",
        "    np.random.seed(HP.seed)\n",
        "    torch.manual_seed(HP.seed)\n",
        "\n",
        "    print(\"----------------------------------- Start Train ------------------------------------\")\n",
        "    train_start_t = time.time()\n",
        "    train_dataset = virus_Dataset(virus_data_train)\n",
        "    val_dataset = virus_Dataset(virus_data_val)\n",
        "    train_loader = DataLoader(train_dataset, batch_size=HP.bsz_train, shuffle=False)\n",
        "    val_loader = DataLoader(val_dataset, batch_size=HP.bsz_test, shuffle=False)\n",
        "\n",
        "    model = virus_model().to(DEV)\n",
        "    opt = torch.optim.Adam(model.parameters(), lr=HP.lr, weight_decay=HP.weight_decay)\n",
        "    scheduler = torch.optim.lr_scheduler.ReduceLROnPlateau(opt, factor=HP.decay_rate, patience=HP.patience)\n",
        "\n",
        "    virus_loss = float('inf')\n",
        "    train_hist, val_hist, lr_hist = [], [], []\n",
        "    for i in range(HP.num_epochs):\n",
        "\n",
        "        train_loss = run_epoch(HP, model, train_loader, i, loss_func, DEV, opt)\n",
        "        val_loss = run_epoch(HP, model, val_loader, i, loss_func, DEV)\n",
        "        print(f\"Epoch {i+1} : Train_loss({train_loss}), Validation_loss({val_loss})\")\n",
        "\n",
        "        train_hist.append(train_loss.detach().cpu().numpy())\n",
        "        val_hist.append(val_loss.detach().cpu().numpy())\n",
        "        lr_hist.append(opt.param_groups[0]['lr'])\n",
        "\n",
        "        scheduler.step(val_loss)\n",
        "        if virus_loss > val_loss:\n",
        "           virus_loss = val_loss\n",
        "           torch.save(model, rootdir + \"cerberus.pt\")\n",
        "\n",
        "    train_time = time.time() - train_start_t\n",
        "    print(\"----------------------------------- Train Resuts -----------------------------------\")\n",
        "    print(\"Train : Validation : Test = %d : %d : %d\" %(n_train, n_val, n_test))\n",
        "    print(\"Epochs : %d\" %HP.num_epochs)\n",
        "    print(\"Training Time : %d min %d sec\" % (train_time // 60, train_time % 60))\n",
        "    print(f\"virus_model_loss={virus_loss}\")\n",
        "\n",
        "    return train_hist, val_hist, lr_hist, virus_loss, train_time"
      ],
      "metadata": {
        "id": "a28-Apa46uZt"
      },
      "execution_count": 19,
      "outputs": []
    },
    {
      "cell_type": "code",
      "source": [
        "MSE = nn.MSELoss(reduction='mean')\n",
        "train_hist, val_hist, lr_hist, virus_loss, train_time = virus_model_train(HP, loss_func=MSE)"
      ],
      "metadata": {
        "id": "QvsiSVO16PQ0",
        "colab": {
          "base_uri": "https://localhost:8080/"
        },
        "outputId": "415a4905-ae3d-4fd2-d13c-30a2d56ac2bf"
      },
      "execution_count": 20,
      "outputs": [
        {
          "output_type": "stream",
          "name": "stdout",
          "text": [
            "----------------------------------- Start Train ------------------------------------\n",
            "Epoch 1 : Train_loss(0.9698588848114014), Validation_loss(0.9683786034584045)\n",
            "Epoch 2 : Train_loss(0.9521243572235107), Validation_loss(0.9513287544250488)\n",
            "Epoch 3 : Train_loss(0.9358599781990051), Validation_loss(0.9349657893180847)\n",
            "Epoch 4 : Train_loss(0.9195041060447693), Validation_loss(0.9183877110481262)\n",
            "Epoch 5 : Train_loss(0.9004997611045837), Validation_loss(0.8987452387809753)\n",
            "Epoch 6 : Train_loss(0.8594991564750671), Validation_loss(0.8572667241096497)\n",
            "Epoch 7 : Train_loss(0.8108739256858826), Validation_loss(0.8085156083106995)\n",
            "Epoch 8 : Train_loss(0.7678990364074707), Validation_loss(0.765826404094696)\n",
            "Epoch 9 : Train_loss(0.7294712066650391), Validation_loss(0.7275442481040955)\n",
            "Epoch 10 : Train_loss(0.6939052939414978), Validation_loss(0.6921043992042542)\n",
            "Epoch 11 : Train_loss(0.6434621810913086), Validation_loss(0.6413030028343201)\n",
            "Epoch 12 : Train_loss(0.5963993668556213), Validation_loss(0.5941575169563293)\n",
            "Epoch 13 : Train_loss(0.55429607629776), Validation_loss(0.5521075129508972)\n",
            "Epoch 14 : Train_loss(0.5166921615600586), Validation_loss(0.5145721435546875)\n",
            "Epoch 15 : Train_loss(0.48246145248413086), Validation_loss(0.4805689752101898)\n",
            "Epoch 16 : Train_loss(0.451357364654541), Validation_loss(0.44938457012176514)\n",
            "Epoch 17 : Train_loss(0.4226599633693695), Validation_loss(0.4205719530582428)\n",
            "Epoch 18 : Train_loss(0.39657071232795715), Validation_loss(0.39467358589172363)\n",
            "Epoch 19 : Train_loss(0.3733578622341156), Validation_loss(0.37143445014953613)\n",
            "Epoch 20 : Train_loss(0.35170865058898926), Validation_loss(0.349744588136673)\n",
            "Epoch 21 : Train_loss(0.33231279253959656), Validation_loss(0.3303937017917633)\n",
            "Epoch 22 : Train_loss(0.3144975006580353), Validation_loss(0.3125866949558258)\n",
            "Epoch 23 : Train_loss(0.2981529235839844), Validation_loss(0.2963223159313202)\n",
            "Epoch 24 : Train_loss(0.28280606865882874), Validation_loss(0.28103339672088623)\n",
            "Epoch 25 : Train_loss(0.2682141959667206), Validation_loss(0.26635101437568665)\n",
            "Epoch 26 : Train_loss(0.2544730007648468), Validation_loss(0.25258299708366394)\n",
            "Epoch 27 : Train_loss(0.24186162650585175), Validation_loss(0.2398834228515625)\n",
            "Epoch 28 : Train_loss(0.23027180135250092), Validation_loss(0.22825932502746582)\n",
            "Epoch 29 : Train_loss(0.2198164314031601), Validation_loss(0.21770204603672028)\n",
            "Epoch 30 : Train_loss(0.21018065512180328), Validation_loss(0.2080560326576233)\n",
            "Epoch 31 : Train_loss(0.20170046389102936), Validation_loss(0.19950735569000244)\n",
            "Epoch 32 : Train_loss(0.1941177248954773), Validation_loss(0.19185771048069)\n",
            "Epoch 33 : Train_loss(0.1873420625925064), Validation_loss(0.18499433994293213)\n",
            "Epoch 34 : Train_loss(0.1811233013868332), Validation_loss(0.17858004570007324)\n",
            "Epoch 35 : Train_loss(0.17501597106456757), Validation_loss(0.17240089178085327)\n",
            "Epoch 36 : Train_loss(0.16938380897045135), Validation_loss(0.16685010492801666)\n",
            "Epoch 37 : Train_loss(0.1642402559518814), Validation_loss(0.16171877086162567)\n",
            "Epoch 38 : Train_loss(0.15956786274909973), Validation_loss(0.15700162947177887)\n",
            "Epoch 39 : Train_loss(0.15522831678390503), Validation_loss(0.1526837795972824)\n",
            "Epoch 40 : Train_loss(0.15087340772151947), Validation_loss(0.14835816621780396)\n",
            "Epoch 41 : Train_loss(0.14663541316986084), Validation_loss(0.14420956373214722)\n",
            "Epoch 42 : Train_loss(0.14269010722637177), Validation_loss(0.14023348689079285)\n",
            "Epoch 43 : Train_loss(0.13893429934978485), Validation_loss(0.13644322752952576)\n",
            "Epoch 44 : Train_loss(0.13546349108219147), Validation_loss(0.1330299824476242)\n",
            "Epoch 45 : Train_loss(0.13217149674892426), Validation_loss(0.129791721701622)\n",
            "Epoch 46 : Train_loss(0.1291273683309555), Validation_loss(0.1268860250711441)\n",
            "Epoch 47 : Train_loss(0.12661448121070862), Validation_loss(0.12430568784475327)\n",
            "Epoch 48 : Train_loss(0.12384390085935593), Validation_loss(0.12138247489929199)\n",
            "Epoch 49 : Train_loss(0.12140896171331406), Validation_loss(0.11894576996564865)\n",
            "Epoch 50 : Train_loss(0.11943285912275314), Validation_loss(0.11699184030294418)\n",
            "Epoch 51 : Train_loss(0.11738959699869156), Validation_loss(0.11505451053380966)\n",
            "Epoch 52 : Train_loss(0.11544223874807358), Validation_loss(0.11312670260667801)\n",
            "Epoch 53 : Train_loss(0.1135333850979805), Validation_loss(0.11123283952474594)\n",
            "Epoch 54 : Train_loss(0.11177384108304977), Validation_loss(0.10933444648981094)\n",
            "Epoch 55 : Train_loss(0.10997790098190308), Validation_loss(0.10761994123458862)\n",
            "Epoch 56 : Train_loss(0.1085466518998146), Validation_loss(0.10625505447387695)\n",
            "Epoch 57 : Train_loss(0.10673774033784866), Validation_loss(0.10443922132253647)\n",
            "Epoch 58 : Train_loss(0.105260469019413), Validation_loss(0.10292204469442368)\n",
            "Epoch 59 : Train_loss(0.1038016676902771), Validation_loss(0.1014738380908966)\n",
            "Epoch 60 : Train_loss(0.10258392244577408), Validation_loss(0.10013582557439804)\n",
            "Epoch 61 : Train_loss(0.10152232646942139), Validation_loss(0.09918507188558578)\n",
            "Epoch 62 : Train_loss(0.10072996467351913), Validation_loss(0.09838084131479263)\n",
            "Epoch 63 : Train_loss(0.10023840516805649), Validation_loss(0.09786900132894516)\n",
            "Epoch 64 : Train_loss(0.0998765230178833), Validation_loss(0.097442127764225)\n",
            "Epoch 65 : Train_loss(0.0997106209397316), Validation_loss(0.09741684794425964)\n",
            "Epoch 66 : Train_loss(0.09912099689245224), Validation_loss(0.09693040698766708)\n",
            "Epoch 67 : Train_loss(0.09872442483901978), Validation_loss(0.09669790416955948)\n",
            "Epoch 68 : Train_loss(0.09836190938949585), Validation_loss(0.0964706763625145)\n",
            "Epoch 69 : Train_loss(0.09749891608953476), Validation_loss(0.09568613767623901)\n",
            "Epoch 70 : Train_loss(0.0972437635064125), Validation_loss(0.09561416506767273)\n",
            "Epoch 71 : Train_loss(0.09712186455726624), Validation_loss(0.09567052125930786)\n",
            "Epoch 72 : Train_loss(0.09690479189157486), Validation_loss(0.09549301862716675)\n",
            "Epoch 73 : Train_loss(0.09694095700979233), Validation_loss(0.09565415233373642)\n",
            "Epoch 74 : Train_loss(0.09649213403463364), Validation_loss(0.09536363929510117)\n",
            "Epoch 75 : Train_loss(0.09635341912508011), Validation_loss(0.09541609138250351)\n",
            "Epoch 76 : Train_loss(0.09630298614501953), Validation_loss(0.09530922025442123)\n",
            "Epoch 77 : Train_loss(0.09618636965751648), Validation_loss(0.0951281189918518)\n",
            "Epoch 78 : Train_loss(0.09597264975309372), Validation_loss(0.09490755945444107)\n",
            "Epoch 79 : Train_loss(0.0954788327217102), Validation_loss(0.0945812538266182)\n",
            "Epoch 80 : Train_loss(0.09533105045557022), Validation_loss(0.09452489763498306)\n",
            "Epoch 81 : Train_loss(0.0950881764292717), Validation_loss(0.09439706802368164)\n",
            "Epoch 82 : Train_loss(0.09484574943780899), Validation_loss(0.0943089947104454)\n",
            "Epoch 83 : Train_loss(0.09498097747564316), Validation_loss(0.09432841092348099)\n",
            "Epoch 84 : Train_loss(0.0947306677699089), Validation_loss(0.09427151829004288)\n",
            "Epoch 85 : Train_loss(0.09473777562379837), Validation_loss(0.09433835744857788)\n",
            "Epoch 86 : Train_loss(0.09428683668375015), Validation_loss(0.09410165995359421)\n",
            "Epoch 87 : Train_loss(0.09422362595796585), Validation_loss(0.09425856918096542)\n",
            "Epoch 88 : Train_loss(0.0939231812953949), Validation_loss(0.09430987387895584)\n",
            "Epoch 89 : Train_loss(0.0941421389579773), Validation_loss(0.09474221616983414)\n",
            "Epoch 90 : Train_loss(0.09404969960451126), Validation_loss(0.09475719928741455)\n",
            "Epoch 91 : Train_loss(0.09361449629068375), Validation_loss(0.09425162523984909)\n",
            "Epoch 92 : Train_loss(0.09344922751188278), Validation_loss(0.09397002309560776)\n",
            "Epoch 93 : Train_loss(0.09283426403999329), Validation_loss(0.09324207156896591)\n",
            "Epoch 94 : Train_loss(0.09227192401885986), Validation_loss(0.09255901724100113)\n",
            "Epoch 95 : Train_loss(0.09201347827911377), Validation_loss(0.09226236492395401)\n",
            "Epoch 96 : Train_loss(0.09109756350517273), Validation_loss(0.09098874777555466)\n",
            "Epoch 97 : Train_loss(0.09076399356126785), Validation_loss(0.09062691777944565)\n",
            "Epoch 98 : Train_loss(0.09041915088891983), Validation_loss(0.09036203473806381)\n",
            "Epoch 99 : Train_loss(0.0898747518658638), Validation_loss(0.08965880423784256)\n",
            "Epoch 100 : Train_loss(0.08912935853004456), Validation_loss(0.08870675414800644)\n",
            "Epoch 101 : Train_loss(0.0880005732178688), Validation_loss(0.08762257546186447)\n",
            "Epoch 102 : Train_loss(0.08759482949972153), Validation_loss(0.08687460422515869)\n",
            "Epoch 103 : Train_loss(0.08661796897649765), Validation_loss(0.08579184859991074)\n",
            "Epoch 104 : Train_loss(0.0859433189034462), Validation_loss(0.08454477787017822)\n",
            "Epoch 105 : Train_loss(0.0857134535908699), Validation_loss(0.08402115851640701)\n",
            "Epoch 106 : Train_loss(0.08470085263252258), Validation_loss(0.08298906683921814)\n",
            "Epoch 107 : Train_loss(0.08437806367874146), Validation_loss(0.08215030282735825)\n",
            "Epoch 108 : Train_loss(0.08352182060480118), Validation_loss(0.08151804655790329)\n",
            "Epoch 109 : Train_loss(0.08207739144563675), Validation_loss(0.07977601885795593)\n",
            "Epoch 110 : Train_loss(0.08104930073022842), Validation_loss(0.07871346920728683)\n",
            "Epoch 111 : Train_loss(0.07914204150438309), Validation_loss(0.07808531820774078)\n",
            "Epoch 112 : Train_loss(0.07720121741294861), Validation_loss(0.07602030783891678)\n",
            "Epoch 113 : Train_loss(0.07515335083007812), Validation_loss(0.0739809051156044)\n",
            "Epoch 114 : Train_loss(0.07425279170274734), Validation_loss(0.07327449321746826)\n",
            "Epoch 115 : Train_loss(0.07329349964857101), Validation_loss(0.07208291441202164)\n",
            "Epoch 116 : Train_loss(0.07264329493045807), Validation_loss(0.07165966928005219)\n",
            "Epoch 117 : Train_loss(0.07191058993339539), Validation_loss(0.07064803689718246)\n",
            "Epoch 118 : Train_loss(0.07122968882322311), Validation_loss(0.0702117383480072)\n",
            "Epoch 119 : Train_loss(0.07004284113645554), Validation_loss(0.069412000477314)\n",
            "Epoch 120 : Train_loss(0.06937598437070847), Validation_loss(0.06860249489545822)\n",
            "Epoch 121 : Train_loss(0.06821788102388382), Validation_loss(0.06736664474010468)\n",
            "Epoch 122 : Train_loss(0.06701834499835968), Validation_loss(0.06679896265268326)\n",
            "Epoch 123 : Train_loss(0.06598593294620514), Validation_loss(0.06590957939624786)\n",
            "Epoch 124 : Train_loss(0.06445559114217758), Validation_loss(0.06458312273025513)\n",
            "Epoch 125 : Train_loss(0.06285624951124191), Validation_loss(0.06334041804075241)\n",
            "Epoch 126 : Train_loss(0.061472486704587936), Validation_loss(0.06176750361919403)\n",
            "Epoch 127 : Train_loss(0.06030229851603508), Validation_loss(0.06075768545269966)\n",
            "Epoch 128 : Train_loss(0.05867462977766991), Validation_loss(0.05909918248653412)\n",
            "Epoch 129 : Train_loss(0.056870270520448685), Validation_loss(0.05724520608782768)\n",
            "Epoch 130 : Train_loss(0.05532940849661827), Validation_loss(0.05577784776687622)\n",
            "Epoch 131 : Train_loss(0.053935009986162186), Validation_loss(0.05485600233078003)\n",
            "Epoch 132 : Train_loss(0.052342187613248825), Validation_loss(0.05317835509777069)\n",
            "Epoch 133 : Train_loss(0.05068762227892876), Validation_loss(0.05158758535981178)\n",
            "Epoch 134 : Train_loss(0.04909791424870491), Validation_loss(0.05021947622299194)\n",
            "Epoch 135 : Train_loss(0.04734864458441734), Validation_loss(0.048694197088479996)\n",
            "Epoch 136 : Train_loss(0.04548537731170654), Validation_loss(0.046897802501916885)\n",
            "Epoch 137 : Train_loss(0.04320249333977699), Validation_loss(0.045025452971458435)\n",
            "Epoch 138 : Train_loss(0.04105759784579277), Validation_loss(0.043030694127082825)\n",
            "Epoch 139 : Train_loss(0.03902372717857361), Validation_loss(0.04106948897242546)\n",
            "Epoch 140 : Train_loss(0.03692842647433281), Validation_loss(0.039151955395936966)\n",
            "Epoch 141 : Train_loss(0.034720756113529205), Validation_loss(0.036873575299978256)\n",
            "Epoch 142 : Train_loss(0.032708790153265), Validation_loss(0.0349174402654171)\n",
            "Epoch 143 : Train_loss(0.03069244883954525), Validation_loss(0.032941386103630066)\n",
            "Epoch 144 : Train_loss(0.028721990063786507), Validation_loss(0.03096035122871399)\n",
            "Epoch 145 : Train_loss(0.027022965252399445), Validation_loss(0.02927461825311184)\n",
            "Epoch 146 : Train_loss(0.025271041318774223), Validation_loss(0.027415050193667412)\n",
            "Epoch 147 : Train_loss(0.02357528917491436), Validation_loss(0.025808589532971382)\n",
            "Epoch 148 : Train_loss(0.021837443113327026), Validation_loss(0.024127865210175514)\n",
            "Epoch 149 : Train_loss(0.02036360278725624), Validation_loss(0.022746175527572632)\n",
            "Epoch 150 : Train_loss(0.018858106806874275), Validation_loss(0.021279385313391685)\n",
            "Epoch 151 : Train_loss(0.017403362318873405), Validation_loss(0.01997138001024723)\n",
            "Epoch 152 : Train_loss(0.015691643580794334), Validation_loss(0.018055230379104614)\n",
            "Epoch 153 : Train_loss(0.014374971389770508), Validation_loss(0.0168644730001688)\n",
            "Epoch 154 : Train_loss(0.013023887760937214), Validation_loss(0.015564724802970886)\n",
            "Epoch 155 : Train_loss(0.011657290160655975), Validation_loss(0.014256819151341915)\n",
            "Epoch 156 : Train_loss(0.010268780402839184), Validation_loss(0.012870934791862965)\n",
            "Epoch 157 : Train_loss(0.009195035323500633), Validation_loss(0.01195261999964714)\n",
            "Epoch 158 : Train_loss(0.008030492812395096), Validation_loss(0.01076649408787489)\n",
            "Epoch 159 : Train_loss(0.007165246177464724), Validation_loss(0.009924054145812988)\n",
            "Epoch 160 : Train_loss(0.006374447140842676), Validation_loss(0.009072643704712391)\n",
            "Epoch 161 : Train_loss(0.005711117293685675), Validation_loss(0.008509251289069653)\n",
            "Epoch 162 : Train_loss(0.005157981999218464), Validation_loss(0.00808557216078043)\n",
            "Epoch 163 : Train_loss(0.00449510058388114), Validation_loss(0.007395383436232805)\n",
            "Epoch 164 : Train_loss(0.003954384010285139), Validation_loss(0.006744174752384424)\n",
            "Epoch 165 : Train_loss(0.0034306931775063276), Validation_loss(0.006174009758979082)\n",
            "Epoch 166 : Train_loss(0.003110704245045781), Validation_loss(0.005826564971357584)\n",
            "Epoch 167 : Train_loss(0.0028523539658635855), Validation_loss(0.005579669028520584)\n",
            "Epoch 168 : Train_loss(0.0027114441618323326), Validation_loss(0.00544997351244092)\n",
            "Epoch 169 : Train_loss(0.002561968518421054), Validation_loss(0.0053536295890808105)\n",
            "Epoch 170 : Train_loss(0.0024580832105129957), Validation_loss(0.005258017685264349)\n",
            "Epoch 171 : Train_loss(0.002386359730735421), Validation_loss(0.005212616175413132)\n",
            "Epoch 172 : Train_loss(0.0022682480048388243), Validation_loss(0.005049568600952625)\n",
            "Epoch 173 : Train_loss(0.0022616495843976736), Validation_loss(0.005113647785037756)\n",
            "Epoch 174 : Train_loss(0.0022608882281929255), Validation_loss(0.005134020000696182)\n",
            "Epoch 175 : Train_loss(0.002334012882784009), Validation_loss(0.005112473852932453)\n",
            "Epoch 176 : Train_loss(0.0022987762931734324), Validation_loss(0.005002222023904324)\n",
            "Epoch 177 : Train_loss(0.0022173444740474224), Validation_loss(0.004852917976677418)\n",
            "Epoch 178 : Train_loss(0.0021388432942330837), Validation_loss(0.004678808618336916)\n",
            "Epoch 179 : Train_loss(0.002050291048362851), Validation_loss(0.004461998585611582)\n",
            "Epoch 180 : Train_loss(0.0019594132900238037), Validation_loss(0.004254114348441362)\n",
            "Epoch 181 : Train_loss(0.0018589203245937824), Validation_loss(0.003964451607316732)\n",
            "Epoch 182 : Train_loss(0.0017999470001086593), Validation_loss(0.0037536639720201492)\n",
            "Epoch 183 : Train_loss(0.0017768173711374402), Validation_loss(0.0036098985001444817)\n",
            "Epoch 184 : Train_loss(0.00180364353582263), Validation_loss(0.00354752573184669)\n",
            "Epoch 185 : Train_loss(0.0018052328377962112), Validation_loss(0.0034557462204247713)\n",
            "Epoch 186 : Train_loss(0.0017592442454770207), Validation_loss(0.0033003271091729403)\n",
            "Epoch 187 : Train_loss(0.0017057379009202123), Validation_loss(0.003184280125424266)\n",
            "Epoch 188 : Train_loss(0.0016407439252361655), Validation_loss(0.0030403854325413704)\n",
            "Epoch 189 : Train_loss(0.0015970793319866061), Validation_loss(0.0029189151246100664)\n",
            "Epoch 190 : Train_loss(0.001535823685117066), Validation_loss(0.002791458507999778)\n",
            "Epoch 191 : Train_loss(0.0015934980474412441), Validation_loss(0.002825862029567361)\n",
            "Epoch 192 : Train_loss(0.001538921962492168), Validation_loss(0.0027150074020028114)\n",
            "Epoch 193 : Train_loss(0.0015302486717700958), Validation_loss(0.0026316680014133453)\n",
            "Epoch 194 : Train_loss(0.001458043698221445), Validation_loss(0.0024377552326768637)\n",
            "Epoch 195 : Train_loss(0.0015023378655314445), Validation_loss(0.0024589188396930695)\n",
            "Epoch 196 : Train_loss(0.0014482360566034913), Validation_loss(0.0023394632153213024)\n",
            "Epoch 197 : Train_loss(0.001448429306037724), Validation_loss(0.00231921230442822)\n",
            "Epoch 198 : Train_loss(0.0014068232849240303), Validation_loss(0.0022286486346274614)\n",
            "Epoch 199 : Train_loss(0.0013173240004107356), Validation_loss(0.00207587075419724)\n",
            "Epoch 200 : Train_loss(0.001306946505792439), Validation_loss(0.002013560850173235)\n",
            "Epoch 201 : Train_loss(0.001313734333962202), Validation_loss(0.0019764567259699106)\n",
            "Epoch 202 : Train_loss(0.0013102092780172825), Validation_loss(0.0019383226754143834)\n",
            "Epoch 203 : Train_loss(0.0012798754032701254), Validation_loss(0.0018575330032035708)\n",
            "Epoch 204 : Train_loss(0.0012812548084184527), Validation_loss(0.0017745554214343429)\n",
            "Epoch 205 : Train_loss(0.0012639636406674981), Validation_loss(0.0017268081428483129)\n",
            "Epoch 206 : Train_loss(0.0012565493816509843), Validation_loss(0.0016380989691242576)\n",
            "Epoch 207 : Train_loss(0.0012522242031991482), Validation_loss(0.0015794779174029827)\n",
            "Epoch 208 : Train_loss(0.0012317775981500745), Validation_loss(0.0015405365265905857)\n",
            "Epoch 209 : Train_loss(0.0011871487367898226), Validation_loss(0.0014689188683405519)\n",
            "Epoch 210 : Train_loss(0.0011603516759350896), Validation_loss(0.0014308980898931623)\n",
            "Epoch 211 : Train_loss(0.0011110843624919653), Validation_loss(0.0013741377042606473)\n",
            "Epoch 212 : Train_loss(0.001103105372749269), Validation_loss(0.0013245423324406147)\n",
            "Epoch 213 : Train_loss(0.0010998466750606894), Validation_loss(0.0012935694539919496)\n",
            "Epoch 214 : Train_loss(0.0011104875011369586), Validation_loss(0.0012935212580487132)\n",
            "Epoch 215 : Train_loss(0.0011034054914489388), Validation_loss(0.0012648991541936994)\n",
            "Epoch 216 : Train_loss(0.0010989930015057325), Validation_loss(0.001247477950528264)\n",
            "Epoch 217 : Train_loss(0.0011066534789279103), Validation_loss(0.001242908532731235)\n",
            "Epoch 218 : Train_loss(0.0010869787074625492), Validation_loss(0.001213111449033022)\n",
            "Epoch 219 : Train_loss(0.0010779418516904116), Validation_loss(0.0011893160408362746)\n",
            "Epoch 220 : Train_loss(0.0010659177787601948), Validation_loss(0.001144516165368259)\n",
            "Epoch 221 : Train_loss(0.0010648019379004836), Validation_loss(0.0011551110073924065)\n",
            "Epoch 222 : Train_loss(0.0010869246907532215), Validation_loss(0.0011609746143221855)\n",
            "Epoch 223 : Train_loss(0.0010708877816796303), Validation_loss(0.0011112915817648172)\n",
            "Epoch 224 : Train_loss(0.0010318075073882937), Validation_loss(0.0010808067163452506)\n",
            "Epoch 225 : Train_loss(0.0010304837487637997), Validation_loss(0.0010595516068860888)\n",
            "Epoch 226 : Train_loss(0.0009981784969568253), Validation_loss(0.0010217622620984912)\n",
            "Epoch 227 : Train_loss(0.0009755982900969684), Validation_loss(0.00098490621894598)\n",
            "Epoch 228 : Train_loss(0.0009607581305317581), Validation_loss(0.0009534946293570101)\n",
            "Epoch 229 : Train_loss(0.0009222181397490203), Validation_loss(0.000911526323761791)\n",
            "Epoch 230 : Train_loss(0.0009121609036810696), Validation_loss(0.0008802989032119513)\n",
            "Epoch 231 : Train_loss(0.0008795249159447849), Validation_loss(0.0008628693758510053)\n",
            "Epoch 232 : Train_loss(0.0008790029678493738), Validation_loss(0.0008420863305218518)\n",
            "Epoch 233 : Train_loss(0.0008869340526871383), Validation_loss(0.0008383127860724926)\n",
            "Epoch 234 : Train_loss(0.0008455347851850092), Validation_loss(0.0007954782922752202)\n",
            "Epoch 235 : Train_loss(0.00085640256293118), Validation_loss(0.000791165279224515)\n",
            "Epoch 236 : Train_loss(0.0008414621115662158), Validation_loss(0.0007605426362715662)\n",
            "Epoch 237 : Train_loss(0.0008132881484925747), Validation_loss(0.0007282085134647787)\n",
            "Epoch 238 : Train_loss(0.0008065283764153719), Validation_loss(0.0007192506454885006)\n",
            "Epoch 239 : Train_loss(0.0007977790082804859), Validation_loss(0.0006926548667252064)\n",
            "Epoch 240 : Train_loss(0.0007935254252515733), Validation_loss(0.0006815311498939991)\n",
            "Epoch 241 : Train_loss(0.0008103208965621889), Validation_loss(0.0006873682141304016)\n",
            "Epoch 242 : Train_loss(0.0007803863845765591), Validation_loss(0.000652691291179508)\n",
            "Epoch 243 : Train_loss(0.0007374256965704262), Validation_loss(0.0006124623469077051)\n",
            "Epoch 244 : Train_loss(0.000711854372639209), Validation_loss(0.0005780750652775168)\n",
            "Epoch 245 : Train_loss(0.0007197831873781979), Validation_loss(0.000588717928621918)\n",
            "Epoch 246 : Train_loss(0.000705623475369066), Validation_loss(0.0005797847989015281)\n",
            "Epoch 247 : Train_loss(0.0006911137606948614), Validation_loss(0.0005737854517064989)\n",
            "Epoch 248 : Train_loss(0.0006687347777187824), Validation_loss(0.0005757434410043061)\n",
            "Epoch 249 : Train_loss(0.0006475974223576486), Validation_loss(0.0005273069837130606)\n",
            "Epoch 250 : Train_loss(0.0006413663504645228), Validation_loss(0.0005338962655514479)\n",
            "Epoch 251 : Train_loss(0.0006104320054873824), Validation_loss(0.000502132810652256)\n",
            "Epoch 252 : Train_loss(0.0006182785728015006), Validation_loss(0.0004948166315443814)\n",
            "Epoch 253 : Train_loss(0.0005989554338157177), Validation_loss(0.0004892059951089323)\n",
            "Epoch 254 : Train_loss(0.0005823009996674955), Validation_loss(0.0004698334669228643)\n",
            "Epoch 255 : Train_loss(0.0005635858396999538), Validation_loss(0.00045549694914370775)\n",
            "Epoch 256 : Train_loss(0.0005580461001954973), Validation_loss(0.00045599244185723364)\n",
            "Epoch 257 : Train_loss(0.0005262392805889249), Validation_loss(0.00042800119263119996)\n",
            "Epoch 258 : Train_loss(0.0005238253506831825), Validation_loss(0.00041973916813731194)\n",
            "Epoch 259 : Train_loss(0.0005026961443945765), Validation_loss(0.0004062663356307894)\n",
            "Epoch 260 : Train_loss(0.00048268589307554066), Validation_loss(0.0003928238002117723)\n",
            "Epoch 261 : Train_loss(0.0004767751961480826), Validation_loss(0.0003788303874898702)\n",
            "Epoch 262 : Train_loss(0.0004638063255697489), Validation_loss(0.0003627209516707808)\n",
            "Epoch 263 : Train_loss(0.0004604276327881962), Validation_loss(0.00036818135413341224)\n",
            "Epoch 264 : Train_loss(0.00045168932410888374), Validation_loss(0.0003470031369943172)\n",
            "Epoch 265 : Train_loss(0.00043781951535493135), Validation_loss(0.0003320354735478759)\n",
            "Epoch 266 : Train_loss(0.00043893823749385774), Validation_loss(0.0003315477224532515)\n",
            "Epoch 267 : Train_loss(0.00040557270403951406), Validation_loss(0.0003126097144559026)\n",
            "Epoch 268 : Train_loss(0.00042922599823214114), Validation_loss(0.0003199665225110948)\n",
            "Epoch 269 : Train_loss(0.00040310213807970285), Validation_loss(0.0002870679891202599)\n",
            "Epoch 270 : Train_loss(0.0004164947022218257), Validation_loss(0.00030560221057385206)\n",
            "Epoch 271 : Train_loss(0.0003976653970312327), Validation_loss(0.00029419062775559723)\n",
            "Epoch 272 : Train_loss(0.0003823113802354783), Validation_loss(0.0002659216697793454)\n",
            "Epoch 273 : Train_loss(0.00041244496242143214), Validation_loss(0.0003144671500194818)\n",
            "Epoch 274 : Train_loss(0.00037695447099395096), Validation_loss(0.00026276850258000195)\n",
            "Epoch 275 : Train_loss(0.00039577033021487296), Validation_loss(0.00029097977676428854)\n",
            "Epoch 276 : Train_loss(0.0003730015305336565), Validation_loss(0.00024005786690395325)\n",
            "Epoch 277 : Train_loss(0.0003846467880066484), Validation_loss(0.0002634356205817312)\n",
            "Epoch 278 : Train_loss(0.0003908853977918625), Validation_loss(0.0002800810325425118)\n",
            "Epoch 279 : Train_loss(0.00037738282117061317), Validation_loss(0.0002558206324465573)\n",
            "Epoch 280 : Train_loss(0.00037958999746479094), Validation_loss(0.0002600669686216861)\n",
            "Epoch 281 : Train_loss(0.000369349610991776), Validation_loss(0.00022662784613203257)\n",
            "Epoch 282 : Train_loss(0.0003845216997433454), Validation_loss(0.0002643307961989194)\n",
            "Epoch 283 : Train_loss(0.00037076277658343315), Validation_loss(0.00023534298816230148)\n",
            "Epoch 284 : Train_loss(0.0003767773450817913), Validation_loss(0.00024791096802800894)\n",
            "Epoch 285 : Train_loss(0.0003554491268005222), Validation_loss(0.0002035295619862154)\n",
            "Epoch 286 : Train_loss(0.00035641284193843603), Validation_loss(0.00023666491324547678)\n",
            "Epoch 287 : Train_loss(0.0003429382632020861), Validation_loss(0.00021187459060456604)\n",
            "Epoch 288 : Train_loss(0.0003531169204507023), Validation_loss(0.0002383251703577116)\n",
            "Epoch 289 : Train_loss(0.00033921640715561807), Validation_loss(0.0002119590644724667)\n",
            "Epoch 290 : Train_loss(0.0003382959112059325), Validation_loss(0.00022417270520236343)\n",
            "Epoch 291 : Train_loss(0.0003237438795622438), Validation_loss(0.00020764789951499552)\n",
            "Epoch 292 : Train_loss(0.00023097317898645997), Validation_loss(0.0002076436794595793)\n",
            "Epoch 293 : Train_loss(0.0002309624251211062), Validation_loss(0.00020764248620253056)\n",
            "Epoch 294 : Train_loss(0.00023096130462363362), Validation_loss(0.00020763621432706714)\n",
            "Epoch 295 : Train_loss(0.00023096404038369656), Validation_loss(0.00020763456996064633)\n",
            "Epoch 296 : Train_loss(0.0002309533883817494), Validation_loss(0.00020763523934874684)\n",
            "Epoch 297 : Train_loss(0.00023096130462363362), Validation_loss(0.00020763285283464938)\n",
            "Epoch 298 : Train_loss(0.0002309503179276362), Validation_loss(0.00020762835629284382)\n",
            "Epoch 299 : Train_loss(0.00023094784410204738), Validation_loss(0.00020762898202519864)\n",
            "Epoch 300 : Train_loss(0.0002309536939719692), Validation_loss(0.00020762161875609308)\n",
            "Epoch 301 : Train_loss(0.00023094813514035195), Validation_loss(0.00020762062922585756)\n",
            "Epoch 302 : Train_loss(0.00023094970674719661), Validation_loss(0.00020762061467394233)\n",
            "Epoch 303 : Train_loss(0.0002309460105607286), Validation_loss(0.0002076221426250413)\n",
            "Epoch 304 : Train_loss(0.00023094269272405654), Validation_loss(0.00020761661289725453)\n",
            "Epoch 305 : Train_loss(0.00023093022173270583), Validation_loss(0.000207615623367019)\n",
            "Epoch 306 : Train_loss(0.000230930614634417), Validation_loss(0.00020761294581461698)\n",
            "Epoch 307 : Train_loss(0.00023092841729521751), Validation_loss(0.00020761688938364387)\n",
            "Epoch 308 : Train_loss(0.00023092898481991142), Validation_loss(0.00020761349878739566)\n",
            "Epoch 309 : Train_loss(0.0002309304109076038), Validation_loss(0.00020761009363923222)\n",
            "Epoch 310 : Train_loss(0.0002309231203980744), Validation_loss(0.00020760575716849416)\n",
            "Epoch 311 : Train_loss(0.0002309200499439612), Validation_loss(0.00020760604820679873)\n",
            "Epoch 312 : Train_loss(0.00023091380717232823), Validation_loss(0.00020760328334290534)\n",
            "Epoch 313 : Train_loss(0.00023091176990419626), Validation_loss(0.00020760261395480484)\n",
            "Epoch 314 : Train_loss(0.00023091114417184144), Validation_loss(0.00020759641483891755)\n",
            "Epoch 315 : Train_loss(0.00023090887407306582), Validation_loss(0.0002075979282381013)\n",
            "Epoch 316 : Train_loss(0.00023090251488611102), Validation_loss(0.00020759848121087998)\n",
            "Epoch 317 : Train_loss(0.0002309018891537562), Validation_loss(0.00020759394101332873)\n",
            "Epoch 318 : Train_loss(0.00023089966271072626), Validation_loss(0.00020759548351634294)\n",
            "Epoch 319 : Train_loss(0.00023089541355147958), Validation_loss(0.0002075963857350871)\n",
            "Epoch 320 : Train_loss(0.00023089842579793185), Validation_loss(0.0002075898228213191)\n",
            "Epoch 321 : Train_loss(0.00023089403111953288), Validation_loss(0.00020758462778758258)\n",
            "Epoch 322 : Train_loss(0.0002308897237526253), Validation_loss(0.00020759044855367392)\n",
            "Epoch 323 : Train_loss(0.00023088643501978368), Validation_loss(0.0002075855154544115)\n",
            "Epoch 324 : Train_loss(0.000230883524636738), Validation_loss(0.00020758678147103637)\n",
            "Epoch 325 : Train_loss(0.00023088358284439892), Validation_loss(0.00020758369646500796)\n",
            "Epoch 326 : Train_loss(0.00023087755835149437), Validation_loss(0.00020758144091814756)\n",
            "Epoch 327 : Train_loss(0.00023087409499567002), Validation_loss(0.00020758334721904248)\n",
            "Epoch 328 : Train_loss(0.00023086747387424111), Validation_loss(0.00020758026221301407)\n",
            "Epoch 329 : Train_loss(0.0002308631082996726), Validation_loss(0.00020757591119036078)\n",
            "Epoch 330 : Train_loss(0.00023086277360562235), Validation_loss(0.00020757538732141256)\n",
            "Epoch 331 : Train_loss(0.00023085861175786704), Validation_loss(0.0002075712982332334)\n",
            "Epoch 332 : Train_loss(0.00023086385044734925), Validation_loss(0.00020757103629875928)\n",
            "Epoch 333 : Train_loss(0.00023085442080628127), Validation_loss(0.00020757281163241714)\n",
            "Epoch 334 : Train_loss(0.00023085255816113204), Validation_loss(0.00020756793674081564)\n",
            "Epoch 335 : Train_loss(0.00023084825079422444), Validation_loss(0.00020756518642883748)\n",
            "Epoch 336 : Train_loss(0.0002308472612639889), Validation_loss(0.00020755968580488116)\n",
            "Epoch 337 : Train_loss(0.0002308423863723874), Validation_loss(0.00020756151934619993)\n",
            "Epoch 338 : Train_loss(0.0002308423863723874), Validation_loss(0.0002075583179248497)\n",
            "Epoch 339 : Train_loss(0.00023083726409822702), Validation_loss(0.0002075552474707365)\n",
            "Epoch 340 : Train_loss(0.00023083522683009505), Validation_loss(0.00020755491277668625)\n",
            "Epoch 341 : Train_loss(0.0002308392577106133), Validation_loss(0.00020755462173838168)\n",
            "Epoch 342 : Train_loss(0.00023083447013050318), Validation_loss(0.00020755066361743957)\n",
            "Epoch 343 : Train_loss(0.0002308276598341763), Validation_loss(0.00020754632714670151)\n",
            "Epoch 344 : Train_loss(0.00023082953703124076), Validation_loss(0.00020754814613610506)\n",
            "Epoch 345 : Train_loss(0.0002308316616108641), Validation_loss(0.00020754655997734517)\n",
            "Epoch 346 : Train_loss(0.00023082259576767683), Validation_loss(0.00020754044817294925)\n",
            "Epoch 347 : Train_loss(0.00023082255211193115), Validation_loss(0.00020754151046276093)\n",
            "Epoch 348 : Train_loss(0.00023081694962456822), Validation_loss(0.00020753750868607312)\n",
            "Epoch 349 : Train_loss(0.00023081444669514894), Validation_loss(0.00020754239812958986)\n",
            "Epoch 350 : Train_loss(0.00023081163817550987), Validation_loss(0.00020753742137458175)\n",
            "Epoch 351 : Train_loss(0.00023081038671080023), Validation_loss(0.00020753433636855334)\n",
            "Epoch 352 : Train_loss(0.00023080845130607486), Validation_loss(0.00020753064018208534)\n",
            "Epoch 353 : Train_loss(0.00023080634127836674), Validation_loss(0.00020752976706717163)\n",
            "Epoch 354 : Train_loss(0.00023080372193362564), Validation_loss(0.00020751927513629198)\n",
            "Epoch 355 : Train_loss(0.0002307978575117886), Validation_loss(0.00020752637647092342)\n",
            "Epoch 356 : Train_loss(0.0002307978575117886), Validation_loss(0.0002075231896014884)\n",
            "Epoch 357 : Train_loss(0.00023079634411260486), Validation_loss(0.00020752078853547573)\n",
            "Epoch 358 : Train_loss(0.0002307862596353516), Validation_loss(0.00020751531701534986)\n",
            "Epoch 359 : Train_loss(0.00023078586673364043), Validation_loss(0.00020751192641910166)\n",
            "Epoch 360 : Train_loss(0.00023078669619280845), Validation_loss(0.00020750821568071842)\n",
            "Epoch 361 : Train_loss(0.00023078300000634044), Validation_loss(0.0002075106604024768)\n",
            "Epoch 362 : Train_loss(0.0002307836402906105), Validation_loss(0.0002075106604024768)\n",
            "Epoch 363 : Train_loss(0.00023078014783095568), Validation_loss(0.00020750721159856766)\n",
            "Epoch 364 : Train_loss(0.0002307836402906105), Validation_loss(0.0002075075317407027)\n",
            "Epoch 365 : Train_loss(0.00023077987134456635), Validation_loss(0.00020750447583850473)\n",
            "Epoch 366 : Train_loss(0.00023077301739249378), Validation_loss(0.00020750320982187986)\n",
            "Epoch 367 : Train_loss(0.0002307695831404999), Validation_loss(0.0002075020020129159)\n",
            "Epoch 368 : Train_loss(0.00023076387878973037), Validation_loss(0.0002074989752145484)\n",
            "Epoch 369 : Train_loss(0.00023075738863553852), Validation_loss(0.00020750192925333977)\n",
            "Epoch 370 : Train_loss(0.0002307573304278776), Validation_loss(0.00020749577379319817)\n",
            "Epoch 371 : Train_loss(0.0002307545073563233), Validation_loss(0.00020749785471707582)\n",
            "Epoch 372 : Train_loss(0.00023075718490872532), Validation_loss(0.00020749268878716975)\n",
            "Epoch 373 : Train_loss(0.0002307544491486624), Validation_loss(0.00020748923998326063)\n",
            "Epoch 374 : Train_loss(0.000230746969464235), Validation_loss(0.00020749226678162813)\n",
            "Epoch 375 : Train_loss(0.00023073887859936804), Validation_loss(0.0002074863441521302)\n",
            "Epoch 376 : Train_loss(0.00023073800548445433), Validation_loss(0.0002074879448628053)\n",
            "Epoch 377 : Train_loss(0.0002307308604940772), Validation_loss(0.00020748487440869212)\n",
            "Epoch 378 : Train_loss(0.00023072800831869245), Validation_loss(0.00020748242968693376)\n",
            "Epoch 379 : Train_loss(0.0002307317336089909), Validation_loss(0.0002074806106975302)\n",
            "Epoch 380 : Train_loss(0.00023072575277183205), Validation_loss(0.0002074781950796023)\n",
            "Epoch 381 : Train_loss(0.0002307273680344224), Validation_loss(0.00020747903909068555)\n",
            "Epoch 382 : Train_loss(0.00023072375915944576), Validation_loss(0.0002074774820357561)\n",
            "Epoch 383 : Train_loss(0.00023072144540492445), Validation_loss(0.0002074744988931343)\n",
            "Epoch 384 : Train_loss(0.00023072045587468892), Validation_loss(0.00020746886730194092)\n",
            "Epoch 385 : Train_loss(0.00023071242321748286), Validation_loss(0.00020747462986037135)\n",
            "Epoch 386 : Train_loss(0.00023071130272001028), Validation_loss(0.00020747103553730994)\n",
            "Epoch 387 : Train_loss(0.00023070891620591283), Validation_loss(0.00020746553491335362)\n",
            "Epoch 388 : Train_loss(0.0002307105460204184), Validation_loss(0.0002074661460937932)\n",
            "Epoch 389 : Train_loss(0.00023071147734299302), Validation_loss(0.00020746246445924044)\n",
            "Epoch 390 : Train_loss(0.00023070169845595956), Validation_loss(0.00020746047084685415)\n",
            "Epoch 391 : Train_loss(0.0002307034592377022), Validation_loss(0.00020745715301018208)\n",
            "Epoch 392 : Train_loss(0.00023070319730322808), Validation_loss(0.00020745412621181458)\n",
            "Epoch 393 : Train_loss(0.00023069170129019767), Validation_loss(0.00020745133224409074)\n",
            "Epoch 394 : Train_loss(0.00023069146845955402), Validation_loss(0.00020745040092151612)\n",
            "Epoch 395 : Train_loss(0.00023068522568792105), Validation_loss(0.00020745221991091967)\n",
            "Epoch 396 : Train_loss(0.00023068486189004034), Validation_loss(0.00020744575886055827)\n",
            "Epoch 397 : Train_loss(0.0002306844835402444), Validation_loss(0.00020744568610098213)\n",
            "Epoch 398 : Train_loss(0.00023068459995556623), Validation_loss(0.00020744775247294456)\n",
            "Epoch 399 : Train_loss(0.00023068043810781091), Validation_loss(0.000207441407837905)\n",
            "Epoch 400 : Train_loss(0.00023067712027113885), Validation_loss(0.0002074429503409192)\n",
            "Epoch 401 : Train_loss(0.00023067339498084038), Validation_loss(0.0002074363874271512)\n",
            "Epoch 402 : Train_loss(0.00023067880829330534), Validation_loss(0.0002074411022476852)\n",
            "Epoch 403 : Train_loss(0.00023067451547831297), Validation_loss(0.00020743055210914463)\n",
            "Epoch 404 : Train_loss(0.000230670630116947), Validation_loss(0.00020743549976032227)\n",
            "Epoch 405 : Train_loss(0.00023066590074449778), Validation_loss(0.00020743451023008674)\n",
            "Epoch 406 : Train_loss(0.00023066542053129524), Validation_loss(0.00020742778724525124)\n",
            "Epoch 407 : Train_loss(0.00023065967252478004), Validation_loss(0.0002074258663924411)\n",
            "Epoch 408 : Train_loss(0.00023065513232722878), Validation_loss(0.000207425095140934)\n",
            "Epoch 409 : Train_loss(0.00023065845016390085), Validation_loss(0.00020742903870996088)\n",
            "Epoch 410 : Train_loss(0.00023065245477482677), Validation_loss(0.00020742193737532943)\n",
            "Epoch 411 : Train_loss(0.00023065245477482677), Validation_loss(0.00020741915795952082)\n",
            "Epoch 412 : Train_loss(0.000230647754506208), Validation_loss(0.00020741969638038427)\n",
            "Epoch 413 : Train_loss(0.00023064378183335066), Validation_loss(0.0002074147923849523)\n",
            "Epoch 414 : Train_loss(0.00023064609558787197), Validation_loss(0.00020741271146107465)\n",
            "Epoch 415 : Train_loss(0.0002306402166141197), Validation_loss(0.00020741292973980308)\n",
            "Epoch 416 : Train_loss(0.0002306416427018121), Validation_loss(0.00020740716718137264)\n",
            "Epoch 417 : Train_loss(0.00023063563276082277), Validation_loss(0.00020740779291372746)\n",
            "Epoch 418 : Train_loss(0.00023062924447003752), Validation_loss(0.00020740133186336607)\n",
            "Epoch 419 : Train_loss(0.00023062679974827915), Validation_loss(0.0002074013027595356)\n",
            "Epoch 420 : Train_loss(0.0002306244568899274), Validation_loss(0.00020739698084071279)\n",
            "Epoch 421 : Train_loss(0.00023061996034812182), Validation_loss(0.00020739814499393106)\n",
            "Epoch 422 : Train_loss(0.00023061879619490355), Validation_loss(0.0002073984796879813)\n",
            "Epoch 423 : Train_loss(0.0002306192764081061), Validation_loss(0.00020739836327265948)\n",
            "Epoch 424 : Train_loss(0.00023062339460011572), Validation_loss(0.00020739661704283208)\n",
            "Epoch 425 : Train_loss(0.00023061530373524874), Validation_loss(0.00020739102910738438)\n",
            "Epoch 426 : Train_loss(0.0002306134410900995), Validation_loss(0.00020739050523843616)\n",
            "Epoch 427 : Train_loss(0.00023060532112140208), Validation_loss(0.00020738608145620674)\n",
            "Epoch 428 : Train_loss(0.00023060874082148075), Validation_loss(0.00020738737657666206)\n",
            "Epoch 429 : Train_loss(0.00023061118554323912), Validation_loss(0.00020738183229696006)\n",
            "Epoch 430 : Train_loss(0.0002306024543941021), Validation_loss(0.00020738515013363212)\n",
            "Epoch 431 : Train_loss(0.00023059597879182547), Validation_loss(0.00020737932936754078)\n",
            "Epoch 432 : Train_loss(0.00023059564409777522), Validation_loss(0.00020738085731863976)\n",
            "Epoch 433 : Train_loss(0.00023059335944708437), Validation_loss(0.00020737828162964433)\n",
            "Epoch 434 : Train_loss(0.00023059011436998844), Validation_loss(0.0002073798095807433)\n",
            "Epoch 435 : Train_loss(0.00023058848455548286), Validation_loss(0.00020738014427479357)\n",
            "Epoch 436 : Train_loss(0.00023058288206811994), Validation_loss(0.00020737358136102557)\n",
            "Epoch 437 : Train_loss(0.00023058314400259405), Validation_loss(0.00020737461454700679)\n",
            "Epoch 438 : Train_loss(0.00023057775979395956), Validation_loss(0.0002073727227980271)\n",
            "Epoch 439 : Train_loss(0.00023057129874359816), Validation_loss(0.00020736812439281493)\n",
            "Epoch 440 : Train_loss(0.0002305700327269733), Validation_loss(0.000207364049856551)\n",
            "Epoch 441 : Train_loss(0.00023056507052388042), Validation_loss(0.0002073589275823906)\n",
            "Epoch 442 : Train_loss(0.00023056507052388042), Validation_loss(0.00020736320584546775)\n",
            "Epoch 443 : Train_loss(0.0002305623929714784), Validation_loss(0.00020735397993121296)\n",
            "Epoch 444 : Train_loss(0.00023056118516251445), Validation_loss(0.00020735770522151142)\n",
            "Epoch 445 : Train_loss(0.00023056118516251445), Validation_loss(0.00020735243742819875)\n",
            "Epoch 446 : Train_loss(0.00023055622295942158), Validation_loss(0.0002073511714115739)\n",
            "Epoch 447 : Train_loss(0.00023055083875078708), Validation_loss(0.00020735453290399164)\n",
            "Epoch 448 : Train_loss(0.00023054635676089674), Validation_loss(0.0002073548239422962)\n",
            "Epoch 449 : Train_loss(0.0002305436210008338), Validation_loss(0.00020735235011670738)\n",
            "Epoch 450 : Train_loss(0.00023054897610563785), Validation_loss(0.00020734437566716224)\n",
            "Epoch 451 : Train_loss(0.00023053993936628103), Validation_loss(0.00020734597637783736)\n",
            "Epoch 452 : Train_loss(0.00023054175835568458), Validation_loss(0.00020734278950840235)\n",
            "Epoch 453 : Train_loss(0.0002305328380316496), Validation_loss(0.00020734062127303332)\n",
            "Epoch 454 : Train_loss(0.00023053308541420847), Validation_loss(0.00020733675046358258)\n",
            "Epoch 455 : Train_loss(0.00023053733457345515), Validation_loss(0.0002073378418572247)\n",
            "Epoch 456 : Train_loss(0.00023052543110679835), Validation_loss(0.00020733998098876327)\n",
            "Epoch 457 : Train_loss(0.0002305325324414298), Validation_loss(0.00020733504788950086)\n",
            "Epoch 458 : Train_loss(0.00023052511096466333), Validation_loss(0.00020732828124891967)\n",
            "Epoch 459 : Train_loss(0.00023052131291478872), Validation_loss(0.0002073331706924364)\n",
            "Epoch 460 : Train_loss(0.00023051990137901157), Validation_loss(0.0002073340438073501)\n",
            "Epoch 461 : Train_loss(0.00023051409516483545), Validation_loss(0.0002073291689157486)\n",
            "Epoch 462 : Train_loss(0.00023050767777021974), Validation_loss(0.00020732478878926486)\n",
            "Epoch 463 : Train_loss(0.00023051147582009435), Validation_loss(0.00020731989934574813)\n",
            "Epoch 464 : Train_loss(0.00023051381867844611), Validation_loss(0.00020731925906147808)\n",
            "Epoch 465 : Train_loss(0.00023050590243656188), Validation_loss(0.0002073131181532517)\n",
            "Epoch 466 : Train_loss(0.0002305038651684299), Validation_loss(0.0002073161886073649)\n",
            "Epoch 467 : Train_loss(0.00023050099844112992), Validation_loss(0.0002073174255201593)\n",
            "Epoch 468 : Train_loss(0.00023049743322189897), Validation_loss(0.00020731279801111668)\n",
            "Epoch 469 : Train_loss(0.00023049638548400253), Validation_loss(0.00020731093536596745)\n",
            "Epoch 470 : Train_loss(0.0002304966328665614), Validation_loss(0.0002073123469017446)\n",
            "Epoch 471 : Train_loss(0.00023049140872899443), Validation_loss(0.00020730722462758422)\n",
            "Epoch 472 : Train_loss(0.00023048935690894723), Validation_loss(0.00020730507094413042)\n",
            "Epoch 473 : Train_loss(0.00023048643197398633), Validation_loss(0.0002073023351840675)\n",
            "Epoch 474 : Train_loss(0.00023048305592965335), Validation_loss(0.0002073026989819482)\n",
            "Epoch 475 : Train_loss(0.00023047963622957468), Validation_loss(0.00020730048709083349)\n",
            "Epoch 476 : Train_loss(0.00023047476133797318), Validation_loss(0.00020730010874103755)\n",
            "Epoch 477 : Train_loss(0.0002304728259332478), Validation_loss(0.00020730031246785074)\n",
            "Epoch 478 : Train_loss(0.00023047532886266708), Validation_loss(0.00020729600510094315)\n",
            "Epoch 479 : Train_loss(0.00023046847491059452), Validation_loss(0.00020729661628138274)\n",
            "Epoch 480 : Train_loss(0.00023046619025990367), Validation_loss(0.00020729335665237159)\n",
            "Epoch 481 : Train_loss(0.00023046655405778438), Validation_loss(0.00020728958770632744)\n",
            "Epoch 482 : Train_loss(0.0002304599474882707), Validation_loss(0.0002072873612632975)\n",
            "Epoch 483 : Train_loss(0.00023046050046104938), Validation_loss(0.0002072847419185564)\n",
            "Epoch 484 : Train_loss(0.00023045526177156717), Validation_loss(0.00020728555682580918)\n",
            "Epoch 485 : Train_loss(0.00023045252601150423), Validation_loss(0.00020728092931676656)\n",
            "Epoch 486 : Train_loss(0.00023045104171615094), Validation_loss(0.0002072781790047884)\n",
            "Epoch 487 : Train_loss(0.0002304454246768728), Validation_loss(0.0002072772040264681)\n",
            "Epoch 488 : Train_loss(0.00023044331464916468), Validation_loss(0.00020727567607536912)\n",
            "Epoch 489 : Train_loss(0.0002304408699274063), Validation_loss(0.0002072729403153062)\n",
            "Epoch 490 : Train_loss(0.0002304381923750043), Validation_loss(0.00020727723313029855)\n",
            "Epoch 491 : Train_loss(0.00023043109104037285), Validation_loss(0.00020726921502500772)\n",
            "Epoch 492 : Train_loss(0.00023042525572236627), Validation_loss(0.00020726835646200925)\n",
            "Epoch 493 : Train_loss(0.0002304306108271703), Validation_loss(0.00020726611546706408)\n",
            "Epoch 494 : Train_loss(0.00023043221153784543), Validation_loss(0.0002072639763355255)\n",
            "Epoch 495 : Train_loss(0.00023042882094159722), Validation_loss(0.0002072627394227311)\n",
            "Epoch 496 : Train_loss(0.00023042575048748404), Validation_loss(0.0002072587376460433)\n",
            "Epoch 497 : Train_loss(0.00023042001703288406), Validation_loss(0.00020725926151499152)\n",
            "Epoch 498 : Train_loss(0.00023042077373247594), Validation_loss(0.00020725898502860218)\n",
            "Epoch 499 : Train_loss(0.0002304157824255526), Validation_loss(0.0002072590432362631)\n",
            "Epoch 500 : Train_loss(0.00023041683016344905), Validation_loss(0.00020726113871205598)\n",
            "----------------------------------- Train Resuts -----------------------------------\n",
            "Train : Validation : Test = 23 : 3 : 14\n",
            "Epochs : 500\n",
            "Training Time : 7 min 22 sec\n",
            "virus_model_loss=0.0002035295619862154\n"
          ]
        }
      ]
    },
    {
      "cell_type": "markdown",
      "source": [
        "### Evaluation Function"
      ],
      "metadata": {
        "id": "WdG_rg5Kr5FX"
      }
    },
    {
      "cell_type": "code",
      "source": [
        "def virus_model_evaluation():\n",
        "\n",
        "    true_p2 = []\n",
        "    true_p3 = []\n",
        "    true_rsv = []\n",
        "\n",
        "    pred_p2 = []\n",
        "    pred_p3 = []\n",
        "    pred_rsv = []\n",
        "\n",
        "    test_start_t = time.time()\n",
        "    model = torch.load(rootdir + \"cerberus.pt\").to(DEV)\n",
        "\n",
        "    model.eval()\n",
        "\n",
        "    test_dataset = virus_Dataset(virus_data_test)\n",
        "    test_loader = DataLoader(test_dataset, batch_size=HP.bsz_test, shuffle=False)\n",
        "    with torch.no_grad():\n",
        "          for virus_k, virus_response, virus_target_p2, virus_target_p3, virus_target_rsv in test_loader:\n",
        "              logit_p2, logit_p3, logit_rsv = model(virus_response)\n",
        "\n",
        "              true_p2.append(virus_target_p2.cpu())\n",
        "              true_p3.append(virus_target_p3.cpu())\n",
        "              true_rsv.append(virus_target_rsv.cpu())\n",
        "\n",
        "              pred_p2.append(logit_p2)\n",
        "              pred_p3.append(logit_p3)\n",
        "              pred_rsv.append(logit_rsv)\n",
        "\n",
        "    true_p2 = torch.cat(true_p2, dim=0)\n",
        "    true_p3 = torch.cat(true_p3, dim=0)\n",
        "    true_rsv = torch.cat(true_rsv, dim=0)\n",
        "\n",
        "    pred_p2 = torch.cat(pred_p2, dim=0)\n",
        "    pred_p3 = torch.cat(pred_p3, dim=0)\n",
        "    pred_rsv = torch.cat(pred_rsv, dim=0)\n",
        "\n",
        "    true_label = np.concatenate((true_p2, true_p3, true_rsv),axis=1)\n",
        "    pred_label = np.concatenate((pred_p2, pred_p3, pred_rsv),axis=1)\n",
        "\n",
        "    test_time = time.time() - test_start_t\n",
        "    print(\"--------------------------------- Evaluation Resuts --------------------------------\")\n",
        "    print(\"Test Time : %d min %d sec\" % (test_time // 60, test_time % 60))\n",
        "    print(\"---------------------------------- Confusion Matrix --------------------------------\")\n",
        "\n",
        "\n",
        "    return np.array(true_p2), np.array(true_p3), np.array(true_rsv), np.array(pred_p2), np.array(pred_p3), np.array(pred_rsv), true_label, pred_label, test_time"
      ],
      "metadata": {
        "id": "HUZW7N6qr25g"
      },
      "execution_count": 21,
      "outputs": []
    },
    {
      "cell_type": "markdown",
      "source": [
        "## 6.Train & Test"
      ],
      "metadata": {
        "id": "LYmIsXhY6C5p"
      }
    },
    {
      "cell_type": "code",
      "source": [
        "true_p2, true_p3, true_rsv, pred_p2, pred_p3, pred_rsv, true_label, pred_label, test_time = virus_model_evaluation()"
      ],
      "metadata": {
        "colab": {
          "base_uri": "https://localhost:8080/"
        },
        "id": "Nz-rcnGu7opG",
        "outputId": "b4cc03d7-dc63-4213-9af6-9c9744b1ba1e"
      },
      "execution_count": 22,
      "outputs": [
        {
          "output_type": "stream",
          "name": "stdout",
          "text": [
            "--------------------------------- Evaluation Resuts --------------------------------\n",
            "Test Time : 0 min 0 sec\n",
            "---------------------------------- Confusion Matrix --------------------------------\n"
          ]
        },
        {
          "output_type": "stream",
          "name": "stderr",
          "text": [
            "<ipython-input-21-f1e6792c59c6>:12: FutureWarning: You are using `torch.load` with `weights_only=False` (the current default value), which uses the default pickle module implicitly. It is possible to construct malicious pickle data which will execute arbitrary code during unpickling (See https://github.com/pytorch/pytorch/blob/main/SECURITY.md#untrusted-models for more details). In a future release, the default value for `weights_only` will be flipped to `True`. This limits the functions that could be executed during unpickling. Arbitrary objects will no longer be allowed to be loaded via this mode unless they are explicitly allowlisted by the user via `torch.serialization.add_safe_globals`. We recommend you start setting `weights_only=True` for any use case where you don't have full control of the loaded file. Please open an issue on GitHub for any issues related to this experimental feature.\n",
            "  model = torch.load(rootdir + \"cerberus.pt\").to(DEV)\n"
          ]
        }
      ]
    },
    {
      "cell_type": "code",
      "source": [
        "r2s = r2_score(true_label, pred_label)\n",
        "print(\"Total R-Squared : \", r2s)\n",
        "print(\"HPIV-2 R-Squared : \", r2_score(true_label[:,0], pred_label[:,0]))\n",
        "print(\"HPIV-3 R-Squared : \", r2_score(true_label[:,1], pred_label[:,1]))\n",
        "print(\"RSV R-Squared : \", r2_score(true_label[:,2], pred_label[:,2]))\n",
        "\n",
        "print(\"HPIV-2 AUC : \", roc_auc_score(true_label[:, 0], pred_label[:, 0]))\n",
        "print(\"HPIV-3 AUC : \", roc_auc_score(true_label[:, 1], pred_label[:, 1]))\n",
        "print(\"RSV AUC : \", roc_auc_score(true_label[:, 2], pred_label[:, 2]))"
      ],
      "metadata": {
        "colab": {
          "base_uri": "https://localhost:8080/"
        },
        "id": "uLr5wlZzGdrR",
        "outputId": "31cb462a-f7cb-4ab3-9a69-d241ce05d849"
      },
      "execution_count": 27,
      "outputs": [
        {
          "output_type": "stream",
          "name": "stdout",
          "text": [
            "Total R-Squared :  0.9958961606025696\n",
            "HPIV-2 R-Squared :  0.9977532625198364\n",
            "HPIV-3 R-Squared :  0.9938691854476929\n",
            "RSV R-Squared :  0.9960660934448242\n",
            "HPIV-2 AUC :  1.0\n",
            "HPIV-3 AUC :  1.0\n",
            "RSV AUC :  1.0\n"
          ]
        }
      ]
    },
    {
      "cell_type": "code",
      "source": [
        "true_np = np.empty((n_target, n_test, 3))\n",
        "prob_np = np.empty((n_target, n_test, 3))\n",
        "\n",
        "for i in range(n_target):\n",
        "    for j in range(n_test):\n",
        "\n",
        "        pr_n = 14*i + j\n",
        "        true_np[i][j] = true_label[pr_n]\n",
        "        prob_np[i][j] = pred_label[pr_n]\n",
        "\n",
        "p2 = prob_np[:, :, 0]\n",
        "p3 = prob_np[:, :, 1]\n",
        "rsv = prob_np[:, :, 2]"
      ],
      "metadata": {
        "id": "DgjAdE5fhngA",
        "colab": {
          "base_uri": "https://localhost:8080/"
        },
        "outputId": "a61ba4de-bbd2-4cad-b5f9-c04f5e973ba1"
      },
      "execution_count": 25,
      "outputs": [
        {
          "output_type": "stream",
          "name": "stdout",
          "text": [
            "(98, 3)\n",
            "(7, 14, 3)\n"
          ]
        }
      ]
    },
    {
      "cell_type": "code",
      "source": [
        "vi7_cm = ['#E74B74', '#9866B6', '#7D6CE2', '#c05995', '#b25cab', '#8b69cc', '#9f62bc']\n",
        "\n",
        "fig = plt.figure(figsize=(8,8))\n",
        "ax = fig.add_subplot(projection='3d')\n",
        "\n",
        "plt.rcParams['svg.fonttype'] = 'none'\n",
        "plt.rc('xtick', direction='out', color='black')\n",
        "plt.rc('ytick', direction='out', color='black')\n",
        "plt.style.use('default')\n",
        "\n",
        "t = np.arange(14)\n",
        "\n",
        "for i in range(prob_np.shape[0]):\n",
        "\n",
        "    lb_ = target_labels[ｉ]\n",
        "\n",
        "    p11 = p2[i]\n",
        "    p22 = p3[i]\n",
        "    p33 = rsv[i]\n",
        "    ax.scatter(p11, p22, p33, s=300, color=vi7_cm[i], edgecolors=\"black\", alpha=0.7, label=lb_)\n",
        "\n",
        "ax.set_xlim([-0.05, 1.05])\n",
        "ax.set_ylim([-0.05, 1.05])\n",
        "ax.set_zlim([-0.05, 1.05])\n",
        "\n",
        "ax.set_xlabel(\"HPIV-2\", labelpad = 5, fontsize=22)\n",
        "ax.set_ylabel(\"HPIV-3\", labelpad = 5, fontsize=22)\n",
        "ax.set_zlabel(\"RSV\", labelpad = 5, fontsize=22)\n",
        "\n",
        "ax.view_init(30,60)\n",
        "\n",
        "ax.xaxis.set_pane_color((1.0, 1.0, 1.0, 0.0))\n",
        "ax.yaxis.set_pane_color((1.0, 1.0, 1.0, 0.0))\n",
        "ax.zaxis.set_pane_color((1.0, 1.0, 1.0, 0.0))\n",
        "\n",
        "plt.legend(loc='right', bbox_to_anchor=(1.3, 0.5), borderpad=0.8, fontsize=16, labelspacing=0.8)\n",
        "\n",
        "plt.tight_layout()\n",
        "plt.show()"
      ],
      "metadata": {
        "colab": {
          "base_uri": "https://localhost:8080/",
          "height": 635
        },
        "id": "spEYweagIO35",
        "outputId": "b271be12-d062-48ae-d2aa-7d7294f7425a"
      },
      "execution_count": 26,
      "outputs": [
        {
          "output_type": "display_data",
          "data": {
            "text/plain": [
              "<Figure size 800x800 with 1 Axes>"
            ],
            "image/png": "[encoded data removed]"
          },
          "metadata": {}
        }
      ]
    }
  ]
}